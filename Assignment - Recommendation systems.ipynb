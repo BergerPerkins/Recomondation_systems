{
 "cells": [
  {
   "cell_type": "markdown",
   "id": "c1566b3f",
   "metadata": {},
   "source": [
    "# Problem - 1"
   ]
  },
  {
   "cell_type": "markdown",
   "id": "1b632a48",
   "metadata": {},
   "source": [
    "### Q1) Build a recommender system with the given data using UBCF.\n",
    "\n",
    "### This dataset is related to the video gaming industry and a survey was conducted to build a recommendation engine so that the store can improve the sales of its gaming DVDs. Snapshot of the dataset is given below. Build a Recommendation Engine and suggest top selling DVDs to the store customers.\n"
   ]
  },
  {
   "cell_type": "code",
   "execution_count": 11,
   "id": "0d074538",
   "metadata": {},
   "outputs": [],
   "source": [
    "#import required libraries \n",
    "import numpy as np\n",
    "import pandas as pd\n",
    "import matplotlib.pyplot as plt\n",
    "import seaborn as sns\n",
    "from sklearn.feature_extraction.text import TfidfVectorizer\n",
    "from sklearn.metrics.pairwise import cosine_similarity"
   ]
  },
  {
   "cell_type": "code",
   "execution_count": 5,
   "id": "927ff68d",
   "metadata": {},
   "outputs": [
    {
     "data": {
      "text/html": [
       "<div>\n",
       "<style scoped>\n",
       "    .dataframe tbody tr th:only-of-type {\n",
       "        vertical-align: middle;\n",
       "    }\n",
       "\n",
       "    .dataframe tbody tr th {\n",
       "        vertical-align: top;\n",
       "    }\n",
       "\n",
       "    .dataframe thead th {\n",
       "        text-align: right;\n",
       "    }\n",
       "</style>\n",
       "<table border=\"1\" class=\"dataframe\">\n",
       "  <thead>\n",
       "    <tr style=\"text-align: right;\">\n",
       "      <th></th>\n",
       "      <th>userId</th>\n",
       "      <th>game</th>\n",
       "      <th>rating</th>\n",
       "    </tr>\n",
       "  </thead>\n",
       "  <tbody>\n",
       "    <tr>\n",
       "      <th>0</th>\n",
       "      <td>3</td>\n",
       "      <td>The Legend of Zelda: Ocarina of Time</td>\n",
       "      <td>4.0</td>\n",
       "    </tr>\n",
       "    <tr>\n",
       "      <th>1</th>\n",
       "      <td>6</td>\n",
       "      <td>Tony Hawk's Pro Skater 2</td>\n",
       "      <td>5.0</td>\n",
       "    </tr>\n",
       "    <tr>\n",
       "      <th>2</th>\n",
       "      <td>8</td>\n",
       "      <td>Grand Theft Auto IV</td>\n",
       "      <td>4.0</td>\n",
       "    </tr>\n",
       "    <tr>\n",
       "      <th>3</th>\n",
       "      <td>10</td>\n",
       "      <td>SoulCalibur</td>\n",
       "      <td>4.0</td>\n",
       "    </tr>\n",
       "    <tr>\n",
       "      <th>4</th>\n",
       "      <td>11</td>\n",
       "      <td>Grand Theft Auto IV</td>\n",
       "      <td>4.5</td>\n",
       "    </tr>\n",
       "    <tr>\n",
       "      <th>...</th>\n",
       "      <td>...</td>\n",
       "      <td>...</td>\n",
       "      <td>...</td>\n",
       "    </tr>\n",
       "    <tr>\n",
       "      <th>4995</th>\n",
       "      <td>4529</td>\n",
       "      <td>Donut County</td>\n",
       "      <td>2.5</td>\n",
       "    </tr>\n",
       "    <tr>\n",
       "      <th>4996</th>\n",
       "      <td>4533</td>\n",
       "      <td>MotorStorm: Apocalypse</td>\n",
       "      <td>3.0</td>\n",
       "    </tr>\n",
       "    <tr>\n",
       "      <th>4997</th>\n",
       "      <td>4544</td>\n",
       "      <td>The Last Guy</td>\n",
       "      <td>3.0</td>\n",
       "    </tr>\n",
       "    <tr>\n",
       "      <th>4998</th>\n",
       "      <td>4548</td>\n",
       "      <td>Valiant Hearts: The Great War</td>\n",
       "      <td>4.0</td>\n",
       "    </tr>\n",
       "    <tr>\n",
       "      <th>4999</th>\n",
       "      <td>4558</td>\n",
       "      <td>Mothergunship</td>\n",
       "      <td>2.5</td>\n",
       "    </tr>\n",
       "  </tbody>\n",
       "</table>\n",
       "<p>5000 rows × 3 columns</p>\n",
       "</div>"
      ],
      "text/plain": [
       "      userId                                  game  rating\n",
       "0          3  The Legend of Zelda: Ocarina of Time     4.0\n",
       "1          6              Tony Hawk's Pro Skater 2     5.0\n",
       "2          8                   Grand Theft Auto IV     4.0\n",
       "3         10                           SoulCalibur     4.0\n",
       "4         11                   Grand Theft Auto IV     4.5\n",
       "...      ...                                   ...     ...\n",
       "4995    4529                          Donut County     2.5\n",
       "4996    4533                MotorStorm: Apocalypse     3.0\n",
       "4997    4544                          The Last Guy     3.0\n",
       "4998    4548         Valiant Hearts: The Great War     4.0\n",
       "4999    4558                         Mothergunship     2.5\n",
       "\n",
       "[5000 rows x 3 columns]"
      ]
     },
     "execution_count": 5,
     "metadata": {},
     "output_type": "execute_result"
    }
   ],
   "source": [
    "#reading data into python\n",
    "game = pd.read_csv(r\"D:\\360 Data Science 360DigiTMG\\Day18-Recomondation engine and network anlytics\\Datasets_Recommendation Engine\\game.csv\")\n",
    "game"
   ]
  },
  {
   "cell_type": "code",
   "execution_count": 6,
   "id": "4f61908e",
   "metadata": {},
   "outputs": [
    {
     "data": {
      "text/plain": [
       "(5000, 3)"
      ]
     },
     "execution_count": 6,
     "metadata": {},
     "output_type": "execute_result"
    }
   ],
   "source": [
    "#shape of the data \n",
    "game.shape"
   ]
  },
  {
   "cell_type": "code",
   "execution_count": 9,
   "id": "2f9d1606",
   "metadata": {},
   "outputs": [
    {
     "data": {
      "text/plain": [
       "Index(['userId', 'game', 'rating'], dtype='object')"
      ]
     },
     "execution_count": 9,
     "metadata": {},
     "output_type": "execute_result"
    }
   ],
   "source": [
    "#columns of the data\n",
    "game.columns"
   ]
  },
  {
   "cell_type": "code",
   "execution_count": 10,
   "id": "490fc32c",
   "metadata": {},
   "outputs": [
    {
     "data": {
      "text/plain": [
       "userId    0\n",
       "game      0\n",
       "rating    0\n",
       "dtype: int64"
      ]
     },
     "execution_count": 10,
     "metadata": {},
     "output_type": "execute_result"
    }
   ],
   "source": [
    "#check missing values\n",
    "game.isnull().sum()"
   ]
  },
  {
   "cell_type": "code",
   "execution_count": 12,
   "id": "0efc0937",
   "metadata": {},
   "outputs": [],
   "source": [
    "#create a tfidf vectorizer to remove all stop words\n",
    "tfidf = TfidfVectorizer(stop_words='english')"
   ]
  },
  {
   "cell_type": "code",
   "execution_count": 16,
   "id": "8602a59d",
   "metadata": {},
   "outputs": [],
   "source": [
    "# replacing the NaN values in overview column with empty string\n",
    "game['game'].isna().sum()\n",
    "game['game'] = game['game'].fillna(' ')"
   ]
  },
  {
   "cell_type": "code",
   "execution_count": 17,
   "id": "c016ca4c",
   "metadata": {},
   "outputs": [],
   "source": [
    "#preparing the tfidf vector for fit and transform\n",
    "tfidf_matrix = tfidf.fit_transform(game.game)"
   ]
  },
  {
   "cell_type": "code",
   "execution_count": 19,
   "id": "f72f072a",
   "metadata": {},
   "outputs": [
    {
     "data": {
      "text/plain": [
       "(5000, 3068)"
      ]
     },
     "execution_count": 19,
     "metadata": {},
     "output_type": "execute_result"
    }
   ],
   "source": [
    "tfidf_matrix.shape"
   ]
  },
  {
   "cell_type": "code",
   "execution_count": 20,
   "id": "c32762d0",
   "metadata": {},
   "outputs": [],
   "source": [
    "#computing the cosine similarity on Tfidf matrix\n",
    "cosine_similarity_matrix = cosine_similarity(tfidf_matrix, tfidf_matrix)"
   ]
  },
  {
   "cell_type": "code",
   "execution_count": 21,
   "id": "15ebc587",
   "metadata": {},
   "outputs": [],
   "source": [
    "#creating a mapping of game name to index number\n",
    "game_index= pd.Series(game.index, index=game['game']).drop_duplicates()"
   ]
  },
  {
   "cell_type": "code",
   "execution_count": 22,
   "id": "69e4fdc1",
   "metadata": {},
   "outputs": [
    {
     "data": {
      "text/plain": [
       "game\n",
       "SoulCalibur       3\n",
       "SoulCalibur    3925\n",
       "dtype: int64"
      ]
     },
     "execution_count": 22,
     "metadata": {},
     "output_type": "execute_result"
    }
   ],
   "source": [
    "game_id = game_index[\"SoulCalibur\"]\n",
    "game_id"
   ]
  },
  {
   "cell_type": "code",
   "execution_count": 25,
   "id": "47dd1fe4",
   "metadata": {},
   "outputs": [],
   "source": [
    "def get_recommendations(Name, topN):\n",
    "                                                               # topN=10 :    ## getting  the entertainment index using its title\n",
    "    game_id = game_index[Name]\n",
    "                                                                          # Getting the pair wise similarity score for all the game's with that \n",
    "   \n",
    "    cosine_scores = list(enumerate(cosine_similarity_matrix[game_id]))\n",
    "    \n",
    "    cosine_scores = sorted(cosine_scores, key=lambda x:x[1], reverse = True)     # Sorting the cosine_similarity score based on scores \n",
    "    \n",
    "    cosine_scores_N = cosine_scores[0: topN+1]                                 # Get the scores of top N most similar movies\n",
    "    \n",
    "    game_idx  =  [i[0] for i in cosine_scores_N]                                # Getting the game index\n",
    "    game_scores =  [i[1] for i in cosine_scores_N]\n",
    "    \n",
    "    game_similar_show = pd.DataFrame(columns=[\"name\", \"Score\"])                  # Similar movies and scores\n",
    "    game_similar_show[\"name\"] = game.iloc[game_idx,1]\n",
    "    game_similar_show[\"Score\"] = game_scores\n",
    "    game_similar_show.reset_index(inplace = True)  \n",
    "    print (game_similar_show)"
   ]
  },
  {
   "cell_type": "code",
   "execution_count": 26,
   "id": "60bd2c8b",
   "metadata": {},
   "outputs": [
    {
     "name": "stdout",
     "output_type": "stream",
     "text": [
      "    index                                  name     Score\n",
      "0      39   Metal Gear Solid 2: Sons of Liberty  1.000000\n",
      "1      92                      Metal Gear Solid  0.695207\n",
      "2    2402                      Metal Gear Solid  0.695207\n",
      "3     463        Metal Gear Solid HD Collection  0.558334\n",
      "4     606        Metal Gear Solid HD Collection  0.558334\n",
      "5    3050        Metal Gear Solid HD Collection  0.558334\n",
      "6     953         Metal Gear Solid 2: Substance  0.544171\n",
      "7    1003         Metal Gear Solid 2: Substance  0.544171\n",
      "8      97       Metal Gear Solid 3: Subsistence  0.534065\n",
      "9     969        Metal Gear Solid: Portable Ops  0.494686\n",
      "10     59  Metal Gear Solid V: The Phantom Pain  0.488450\n"
     ]
    },
    {
     "data": {
      "text/plain": [
       "39"
      ]
     },
     "execution_count": 26,
     "metadata": {},
     "output_type": "execute_result"
    }
   ],
   "source": [
    "# Enter your anime and number of anime's to be recommended \n",
    "get_recommendations(\"Metal Gear Solid 2: Sons of Liberty\", topN = 10)\n",
    "game_index[\"Metal Gear Solid 2: Sons of Liberty\"]"
   ]
  },
  {
   "cell_type": "markdown",
   "id": "910b21a5",
   "metadata": {},
   "source": [
    "# problem - 2"
   ]
  },
  {
   "cell_type": "markdown",
   "id": "d97569f3",
   "metadata": {},
   "source": [
    "### Q2) The Entertainment Company, which is an online movie watching platform, wants to improve its collection of movies and showcase those that are highly rated and recommend those movies to its customer by their movie watching footprint. For this, the company has collected the data and shared it with you to provide some analytical insights and also to come up with a recommendation algorithm so that it can automate its process for effective recommendations. The ratings are between -9 and +9."
   ]
  },
  {
   "cell_type": "code",
   "execution_count": 67,
   "id": "f5edbe7f",
   "metadata": {},
   "outputs": [],
   "source": [
    "#importing required libraries\n",
    "\n",
    "import pandas as pd\n",
    "from sklearn.feature_extraction.text import TfidfVectorizer\n",
    "from sklearn.metrics.pairwise import cosine_similarity"
   ]
  },
  {
   "cell_type": "code",
   "execution_count": 68,
   "id": "632ca67a",
   "metadata": {},
   "outputs": [
    {
     "data": {
      "text/html": [
       "<div>\n",
       "<style scoped>\n",
       "    .dataframe tbody tr th:only-of-type {\n",
       "        vertical-align: middle;\n",
       "    }\n",
       "\n",
       "    .dataframe tbody tr th {\n",
       "        vertical-align: top;\n",
       "    }\n",
       "\n",
       "    .dataframe thead th {\n",
       "        text-align: right;\n",
       "    }\n",
       "</style>\n",
       "<table border=\"1\" class=\"dataframe\">\n",
       "  <thead>\n",
       "    <tr style=\"text-align: right;\">\n",
       "      <th></th>\n",
       "      <th>Id</th>\n",
       "      <th>Titles</th>\n",
       "      <th>Category</th>\n",
       "      <th>Reviews</th>\n",
       "    </tr>\n",
       "  </thead>\n",
       "  <tbody>\n",
       "    <tr>\n",
       "      <th>0</th>\n",
       "      <td>6973</td>\n",
       "      <td>Toy Story (1995)</td>\n",
       "      <td>Drama, Romance, School, Supernatural</td>\n",
       "      <td>-8.98</td>\n",
       "    </tr>\n",
       "    <tr>\n",
       "      <th>1</th>\n",
       "      <td>6778</td>\n",
       "      <td>Jumanji (1995)</td>\n",
       "      <td>Action, Adventure, Drama, Fantasy, Magic, Mili...</td>\n",
       "      <td>8.88</td>\n",
       "    </tr>\n",
       "    <tr>\n",
       "      <th>2</th>\n",
       "      <td>9702</td>\n",
       "      <td>Grumpier Old Men (1995)</td>\n",
       "      <td>Action, Comedy, Historical, Parody, Samurai, S...</td>\n",
       "      <td>99.00</td>\n",
       "    </tr>\n",
       "    <tr>\n",
       "      <th>3</th>\n",
       "      <td>6769</td>\n",
       "      <td>Waiting to Exhale (1995)</td>\n",
       "      <td>Sci-Fi, Thriller</td>\n",
       "      <td>99.00</td>\n",
       "    </tr>\n",
       "    <tr>\n",
       "      <th>4</th>\n",
       "      <td>1123</td>\n",
       "      <td>Father of the Bride Part II (1995)</td>\n",
       "      <td>Action, Comedy, Historical, Parody, Samurai, S...</td>\n",
       "      <td>-0.44</td>\n",
       "    </tr>\n",
       "  </tbody>\n",
       "</table>\n",
       "</div>"
      ],
      "text/plain": [
       "     Id                              Titles  \\\n",
       "0  6973                    Toy Story (1995)   \n",
       "1  6778                      Jumanji (1995)   \n",
       "2  9702             Grumpier Old Men (1995)   \n",
       "3  6769            Waiting to Exhale (1995)   \n",
       "4  1123  Father of the Bride Part II (1995)   \n",
       "\n",
       "                                            Category  Reviews  \n",
       "0               Drama, Romance, School, Supernatural    -8.98  \n",
       "1  Action, Adventure, Drama, Fantasy, Magic, Mili...     8.88  \n",
       "2  Action, Comedy, Historical, Parody, Samurai, S...    99.00  \n",
       "3                                   Sci-Fi, Thriller    99.00  \n",
       "4  Action, Comedy, Historical, Parody, Samurai, S...    -0.44  "
      ]
     },
     "execution_count": 68,
     "metadata": {},
     "output_type": "execute_result"
    }
   ],
   "source": [
    "#reading the libraries into python\n",
    "\n",
    "entertainment = pd.read_csv(r\"D:\\360 Data Science 360DigiTMG\\Day18-Recomondation engine and network anlytics\\Datasets_Recommendation Engine\\Entertainment.csv\")\n",
    "entertainment.head()"
   ]
  },
  {
   "cell_type": "code",
   "execution_count": 69,
   "id": "376ca13a",
   "metadata": {},
   "outputs": [
    {
     "data": {
      "text/plain": [
       "(51, 4)"
      ]
     },
     "execution_count": 69,
     "metadata": {},
     "output_type": "execute_result"
    }
   ],
   "source": [
    "#shape of the data\n",
    "\n",
    "entertainment.shape"
   ]
  },
  {
   "cell_type": "code",
   "execution_count": 70,
   "id": "06bffea7",
   "metadata": {},
   "outputs": [
    {
     "data": {
      "text/plain": [
       "Index(['Id', 'Titles', 'Category', 'Reviews'], dtype='object')"
      ]
     },
     "execution_count": 70,
     "metadata": {},
     "output_type": "execute_result"
    }
   ],
   "source": [
    "#columns of the data\n",
    "\n",
    "entertainment.columns"
   ]
  },
  {
   "cell_type": "code",
   "execution_count": 71,
   "id": "ae18cf9f",
   "metadata": {},
   "outputs": [
    {
     "data": {
      "text/plain": [
       "TfidfVectorizer(stop_words='english')"
      ]
     },
     "execution_count": 71,
     "metadata": {},
     "output_type": "execute_result"
    }
   ],
   "source": [
    "# Creating a Tfidf Vectorizer to remove all stop words\n",
    "\n",
    "tfidf = TfidfVectorizer(stop_words='english')\n",
    "tfidf"
   ]
  },
  {
   "cell_type": "code",
   "execution_count": 72,
   "id": "a43a2715",
   "metadata": {},
   "outputs": [],
   "source": [
    "# replacing the NaN values in overview column with empty string\n",
    "\n",
    "entertainment['Category'].isnull().sum()\n",
    "entertainment['Category'] = entertainment['Category'].fillna(\" \")"
   ]
  },
  {
   "cell_type": "code",
   "execution_count": 73,
   "id": "ebcf5f8e",
   "metadata": {},
   "outputs": [
    {
     "data": {
      "text/plain": [
       "<51x34 sparse matrix of type '<class 'numpy.float64'>'\n",
       "\twith 285 stored elements in Compressed Sparse Row format>"
      ]
     },
     "execution_count": 73,
     "metadata": {},
     "output_type": "execute_result"
    }
   ],
   "source": [
    "# Preparing the Tfidf matrix by fitting and transforming\n",
    "tfidf_matrix = tfidf.fit_transform(entertainment.Category)\n",
    "tfidf_matrix"
   ]
  },
  {
   "cell_type": "code",
   "execution_count": 74,
   "id": "d57abb6c",
   "metadata": {},
   "outputs": [
    {
     "data": {
      "text/plain": [
       "(51, 34)"
      ]
     },
     "execution_count": 74,
     "metadata": {},
     "output_type": "execute_result"
    }
   ],
   "source": [
    "#shape of the tfidf matrix\n",
    "tfidf_matrix.shape"
   ]
  },
  {
   "cell_type": "code",
   "execution_count": 75,
   "id": "f9a2bc2d",
   "metadata": {},
   "outputs": [
    {
     "data": {
      "text/plain": [
       "array([[1.        , 0.09421367, 0.        , ..., 0.12767481, 0.16772551,\n",
       "        0.31295101],\n",
       "       [0.09421367, 1.        , 0.16662513, ..., 0.22332745, 0.        ,\n",
       "        0.        ],\n",
       "       [0.        , 0.16662513, 1.        , ..., 0.13383076, 0.        ,\n",
       "        0.        ],\n",
       "       ...,\n",
       "       [0.12767481, 0.22332745, 0.13383076, ..., 1.        , 0.47083158,\n",
       "        0.17020003],\n",
       "       [0.16772551, 0.        , 0.        , ..., 0.47083158, 1.        ,\n",
       "        0.64107498],\n",
       "       [0.31295101, 0.        , 0.        , ..., 0.17020003, 0.64107498,\n",
       "        1.        ]])"
      ]
     },
     "execution_count": 75,
     "metadata": {},
     "output_type": "execute_result"
    }
   ],
   "source": [
    "# Computing the cosine similarity on Tfidf matrix\n",
    "cosine_similarity_matrix = cosine_similarity(tfidf_matrix, tfidf_matrix)\n",
    "cosine_similarity_matrix"
   ]
  },
  {
   "cell_type": "code",
   "execution_count": 76,
   "id": "5b418bfb",
   "metadata": {},
   "outputs": [
    {
     "data": {
      "text/plain": [
       "Titles\n",
       "Toy Story (1995)                      0\n",
       "Jumanji (1995)                        1\n",
       "Grumpier Old Men (1995)               2\n",
       "Waiting to Exhale (1995)              3\n",
       "Father of the Bride Part II (1995)    4\n",
       "dtype: int64"
      ]
     },
     "execution_count": 76,
     "metadata": {},
     "output_type": "execute_result"
    }
   ],
   "source": [
    "# creating a mapping of entertainment name to index number\n",
    "entertainment_index = pd.Series(entertainment.index, index=entertainment['Titles']).drop_duplicates()\n",
    "entertainment_index.head()"
   ]
  },
  {
   "cell_type": "code",
   "execution_count": 77,
   "id": "eeef4408",
   "metadata": {},
   "outputs": [
    {
     "data": {
      "text/plain": [
       "1"
      ]
     },
     "execution_count": 77,
     "metadata": {},
     "output_type": "execute_result"
    }
   ],
   "source": [
    "entertainment_id = entertainment_index['Jumanji (1995)']\n",
    "entertainment_id"
   ]
  },
  {
   "cell_type": "code",
   "execution_count": 107,
   "id": "c33b7ee8",
   "metadata": {},
   "outputs": [],
   "source": [
    "def get_recomondations(Name, topN):  # topN=10 :   \n",
    "    \n",
    "    ## getting  the entertainment index using its title\n",
    "    entertainment_id = entertainment_index[Name]\n",
    "    \n",
    "    #Getting the pair wise similarity score for all the anime's with that anime\n",
    "    cosine_scores = list(enumerate(cosine_similarity_matrix[entertainment_id]))\n",
    "    \n",
    "    #Sorting the cosine_similarity scores based on scores\n",
    "    cosine_scores = sorted(cosine_scores, key=lambda x:x[1], reverse = True)\n",
    "    \n",
    "    # Get the scores of top N most similar movies\n",
    "    cosine_scores_N = cosine_scores[0: topN+1]\n",
    "    \n",
    "    #getting the entertainment index\n",
    "    entertainment_idx  =  [i[0] for i in cosine_scores_N]\n",
    "    entertainment_scores =  [i[1] for i in cosine_scores_N]\n",
    "    \n",
    "\n",
    "    entertainment_similar_show = pd.DataFrame(columns=[\"name\", \"Score\"])\n",
    "    entertainment_similar_show[\"name\"] = entertainment.loc[entertainment_idx, \"Titles\"]\n",
    "    entertainment_similar_show[\"Score\"] = entertainment_scores\n",
    "    entertainment_similar_show.reset_index(inplace = True)\n",
    "    print (entertainment_similar_show)"
   ]
  },
  {
   "cell_type": "code",
   "execution_count": 108,
   "id": "955b42e5",
   "metadata": {},
   "outputs": [
    {
     "name": "stdout",
     "output_type": "stream",
     "text": [
      "    index                                  name     Score\n",
      "0      42  How to Make an American Quilt (1995)  1.000000\n",
      "1      11    Dracula: Dead and Loving It (1995)  0.671482\n",
      "2       5                           Heat (1995)  0.659052\n",
      "3      14               Cutthroat Island (1995)  0.659052\n",
      "4      43           Seven (a.k.a. Se7en) (1995)  0.659052\n",
      "5      30                Dangerous Minds (1995)  0.613482\n",
      "6      39                    Restoration (1995)  0.433194\n",
      "7      20                     Get Shorty (1995)  0.412933\n",
      "8      32                           Babe (1995)  0.412933\n",
      "9      44                     Pocahontas (1995)  0.412933\n",
      "10      2               Grumpier Old Men (1995)  0.405039\n"
     ]
    },
    {
     "data": {
      "text/plain": [
       "42"
      ]
     },
     "execution_count": 108,
     "metadata": {},
     "output_type": "execute_result"
    }
   ],
   "source": [
    "# Enter your entertainment and number of entertainment's to be recommended \n",
    "\n",
    "get_recomondations(\"How to Make an American Quilt (1995)\", topN = 10)\n",
    "entertainment_index[\"How to Make an American Quilt (1995)\"]"
   ]
  },
  {
   "cell_type": "code",
   "execution_count": null,
   "id": "18af7b3c",
   "metadata": {},
   "outputs": [],
   "source": []
  }
 ],
 "metadata": {
  "kernelspec": {
   "display_name": "Python 3 (ipykernel)",
   "language": "python",
   "name": "python3"
  },
  "language_info": {
   "codemirror_mode": {
    "name": "ipython",
    "version": 3
   },
   "file_extension": ".py",
   "mimetype": "text/x-python",
   "name": "python",
   "nbconvert_exporter": "python",
   "pygments_lexer": "ipython3",
   "version": "3.9.13"
  }
 },
 "nbformat": 4,
 "nbformat_minor": 5
}
